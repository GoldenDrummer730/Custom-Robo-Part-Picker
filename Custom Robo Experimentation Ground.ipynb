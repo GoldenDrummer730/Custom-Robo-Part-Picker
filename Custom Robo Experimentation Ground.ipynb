{
 "cells": [
  {
   "cell_type": "code",
   "execution_count": null,
   "id": "0132ec90",
   "metadata": {},
   "outputs": [],
   "source": [
    "from ReadWriteMemory import ReadWriteMemory\n",
    "import codecs\n",
    "import pymem\n",
    "import json\n",
    "import pygame\n"
   ]
  },
  {
   "cell_type": "code",
   "execution_count": null,
   "id": "d6eb8bfe",
   "metadata": {},
   "outputs": [],
   "source": [
    "# Set up the process to read from Dolphin\n",
    "pm = pymem.Pymem('Dolphin.exe')\n",
    "intAdd = 'INSERT MEM ADRESS FROM CHEAT ENGINE HERE'"
   ]
  },
  {
   "cell_type": "code",
   "execution_count": null,
   "id": "910ed535",
   "metadata": {},
   "outputs": [],
   "source": [
    "# Read from the memory address that we found to have our current robo part\n",
    "# This will be used for each of the 5 parts\n",
    "pm.read_bytes(intAdd, 24).decode('utf-8').strip('\\x00')"
   ]
  },
  {
   "cell_type": "code",
   "execution_count": null,
   "id": "6e1a66cf",
   "metadata": {},
   "outputs": [],
   "source": [
    "# After each decision is made, we need to update the memory to be cleared so that persistant data doesn't stay\n",
    "# Ex: Super long part names will have their endings stay in memory if we choose a shorter part name\n",
    "for i in range(24):\n",
    "    pm.write_bytes(intAdd + i, b'\\x00', 1)"
   ]
  },
  {
   "cell_type": "code",
   "execution_count": null,
   "id": "edb43c2a",
   "metadata": {},
   "outputs": [],
   "source": [
    "pygame.init()\n",
    "joysticks = []\n",
    "clock = pygame.time.Clock()\n",
    "keepPlaying = True\n",
    "\n",
    "# for al the connected joysticks\n",
    "for i in range(0, pygame.joystick.get_count()):\n",
    "    # create an Joystick object in our list\n",
    "    joysticks.append(pygame.joystick.Joystick(i))\n",
    "    # initialize them all (-1 means loop forever)\n",
    "    joysticks[-1].init()\n",
    "    # print a statement telling what the name of the controller is\n",
    "    print (\"Detected joystick \"),joysticks[-1].get_name(),\"'\""
   ]
  },
  {
   "cell_type": "code",
   "execution_count": null,
   "id": "f3a27a76",
   "metadata": {},
   "outputs": [],
   "source": [
    "# Use this cell to figure out which button is SELECT and D-Pad Down on your joystick\n",
    "while keepPlaying:\n",
    "    clock.tick(10)\n",
    "    for event in pygame.event.get():\n",
    "        try:\n",
    "            print(event)\n",
    "        except Exception as e:\n",
    "            print(help(event))"
   ]
  },
  {
   "cell_type": "code",
   "execution_count": null,
   "id": "598e508f",
   "metadata": {},
   "outputs": [],
   "source": []
  }
 ],
 "metadata": {
  "kernelspec": {
   "display_name": "Python 3 (ipykernel)",
   "language": "python",
   "name": "python3"
  },
  "language_info": {
   "codemirror_mode": {
    "name": "ipython",
    "version": 3
   },
   "file_extension": ".py",
   "mimetype": "text/x-python",
   "name": "python",
   "nbconvert_exporter": "python",
   "pygments_lexer": "ipython3",
   "version": "3.9.6"
  }
 },
 "nbformat": 4,
 "nbformat_minor": 5
}
